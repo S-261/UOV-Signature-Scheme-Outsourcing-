{
 "cells": [
  {
   "cell_type": "code",
   "execution_count": 30,
   "id": "6dc7bf02",
   "metadata": {},
   "outputs": [],
   "source": [
    "import numpy as np\n",
    "# pip install galois\n",
    "import galois\n",
    "from numpy.random import default_rng\n",
    "import hashlib"
   ]
  },
  {
   "cell_type": "code",
   "execution_count": 31,
   "id": "f36ff332",
   "metadata": {},
   "outputs": [],
   "source": [
    "GF256 = galois.GF(2**8)   # Field is taken as Galois field 256 with irreducible polynomial as x^8 + x^4 + x^3 + x^2 + 1"
   ]
  },
  {
   "cell_type": "code",
   "execution_count": 32,
   "id": "744023ec",
   "metadata": {},
   "outputs": [],
   "source": [
    "Enc_M = np.loadtxt(\"Enc_M.txt\", delimiter=\",\")\n",
    "Enc_y = np.loadtxt(\"Enc_y.txt\", delimiter=\",\")"
   ]
  },
  {
   "cell_type": "code",
   "execution_count": 33,
   "id": "489c748d",
   "metadata": {},
   "outputs": [],
   "source": [
    "Enc_y = Enc_y.reshape(Enc_y.shape[0], 1)\n",
    "Enc_y = Enc_y.astype(dtype=np.uint8)"
   ]
  },
  {
   "cell_type": "code",
   "execution_count": 34,
   "id": "0c0232e5",
   "metadata": {},
   "outputs": [
    {
     "data": {
      "text/plain": [
       "GF([[164],\n",
       "    [112],\n",
       "    [ 29],\n",
       "    [135],\n",
       "    [  0],\n",
       "    [ 49],\n",
       "    [ 88],\n",
       "    [ 62],\n",
       "    [251],\n",
       "    [197],\n",
       "    [161],\n",
       "    [ 67],\n",
       "    [  1],\n",
       "    [224],\n",
       "    [229],\n",
       "    [117],\n",
       "    [173],\n",
       "    [111],\n",
       "    [211],\n",
       "    [ 26]], order=2^8)"
      ]
     },
     "execution_count": 34,
     "metadata": {},
     "output_type": "execute_result"
    }
   ],
   "source": [
    "Enc_y=GF256(Enc_y)\n",
    "Enc_y"
   ]
  },
  {
   "cell_type": "code",
   "execution_count": 35,
   "id": "b7d27f93",
   "metadata": {},
   "outputs": [
    {
     "data": {
      "text/plain": [
       "GF([[ 97, 191, 153, 180,  26, 133, 179,  19, 192, 157,  17,  47, 145,\n",
       "     114, 168,  72, 187, 251, 115,   1],\n",
       "    [227, 132, 139, 122, 198,  15, 178, 208, 126,  46,  47,  90,  56,\n",
       "      48, 234, 230, 129,  41, 149, 146],\n",
       "    [ 76, 228,  45,  38, 132, 141,  85, 232,  22, 209,   8,  69, 125,\n",
       "      56, 139, 183, 232, 188,  51, 163],\n",
       "    [174, 158,  99, 132, 192,  38, 193, 137, 110, 143,  61,  14, 159,\n",
       "     100,  24,  85, 240, 105,  34, 101],\n",
       "    [ 18, 153, 134, 170, 103,  14,  37, 122,  68,  77,  81,  50,  76,\n",
       "     215, 191,  93,   4, 177,  66, 207],\n",
       "    [139, 235, 190, 213,  40,  24, 137, 166, 126, 180, 127, 168, 123,\n",
       "      86,  93, 184, 224,   2,   5, 173],\n",
       "    [ 14, 214,  84,  70, 238,   3, 195,  94,  51, 204,  67,   9,  91,\n",
       "     206, 238, 201, 215,  90, 205,  62],\n",
       "    [238,  24, 188, 206, 185,   5,  48,  63,  40, 154, 219,  19, 218,\n",
       "       0, 254,  60,  32, 153, 159, 184],\n",
       "    [120,  39, 133, 215,  23, 161, 150,   8, 183, 101, 110,  24,  70,\n",
       "     200,  10, 252,  13, 148, 162, 190],\n",
       "    [ 29, 129, 104, 135,  77, 201,  75, 112, 205, 141, 127, 249,  51,\n",
       "     188, 229,   8, 127, 210,  89, 187],\n",
       "    [233, 124,  57, 181, 253, 108,  11, 177,  22,  72,   6,  64, 251,\n",
       "      61,   3, 207, 222, 117,  98,  69],\n",
       "    [ 74, 198, 158, 209, 173, 114,  85,  41, 156, 202, 243, 134, 169,\n",
       "      98, 158, 197, 184, 112, 125, 160],\n",
       "    [ 49,  39, 199,  27, 106,  22, 194,  42, 213, 224, 121, 127,  76,\n",
       "      81, 245, 118, 184,  36,  30, 224],\n",
       "    [232, 163, 162, 150, 237,  72, 183,   7, 242, 204,  70, 133, 108,\n",
       "      26,  88, 224, 203, 227,  86,  50],\n",
       "    [130, 165, 139, 104, 200, 185, 102, 218,  47, 233,  57, 185, 226,\n",
       "     194, 245, 169, 113, 187, 251,  99],\n",
       "    [ 55, 239,  10,  62, 123, 167, 154, 153, 157, 137, 115, 113, 188,\n",
       "     240,  79, 198,  17, 128,  68, 229],\n",
       "    [ 91,   0, 107,  77,  40, 120, 199, 223, 220,   1, 245, 212, 243,\n",
       "     187, 133, 164,  66, 176, 239, 200],\n",
       "    [180, 178, 236,  74,  28, 161, 220,   7, 206, 198, 222,  78, 130,\n",
       "      44, 113,  33, 228,  50,  47, 126],\n",
       "    [107,  97, 144,  59, 128, 191, 183, 221,  90, 165,  91,  93, 148,\n",
       "     211,  49, 212, 114, 222, 131,  52],\n",
       "    [ 15, 140, 125, 105,  65, 155, 251, 104, 252, 168, 102, 204,  54,\n",
       "      77, 176,  59,  64,  57, 173,   1]], order=2^8)"
      ]
     },
     "execution_count": 35,
     "metadata": {},
     "output_type": "execute_result"
    }
   ],
   "source": [
    "Enc_M = Enc_M.astype(dtype=np.uint8)\n",
    "Enc_M=GF256(Enc_M)\n",
    "Enc_M"
   ]
  },
  {
   "cell_type": "code",
   "execution_count": 36,
   "id": "34b7df5e",
   "metadata": {},
   "outputs": [],
   "source": [
    "def cloud_solve(Enc_M,Enc_y):   # Cloud computation part\n",
    "    Enc_sol = np.linalg.solve(Enc_M,Enc_y)\n",
    "    return Enc_sol"
   ]
  },
  {
   "cell_type": "code",
   "execution_count": 37,
   "id": "0e925035",
   "metadata": {},
   "outputs": [
    {
     "data": {
      "text/plain": [
       "GF([[112],\n",
       "    [156],\n",
       "    [197],\n",
       "    [ 10],\n",
       "    [109],\n",
       "    [ 61],\n",
       "    [218],\n",
       "    [104],\n",
       "    [225],\n",
       "    [216],\n",
       "    [226],\n",
       "    [ 10],\n",
       "    [231],\n",
       "    [122],\n",
       "    [108],\n",
       "    [227],\n",
       "    [ 58],\n",
       "    [ 98],\n",
       "    [156],\n",
       "    [126]], order=2^8)"
      ]
     },
     "execution_count": 37,
     "metadata": {},
     "output_type": "execute_result"
    }
   ],
   "source": [
    "Enc_sol = cloud_solve(Enc_M,Enc_y)\n",
    "Enc_sol"
   ]
  },
  {
   "cell_type": "code",
   "execution_count": 38,
   "id": "c5b5df41",
   "metadata": {},
   "outputs": [],
   "source": [
    "np.savetxt('Enc_sol.txt', Enc_sol, delimiter=',')"
   ]
  },
  {
   "cell_type": "code",
   "execution_count": null,
   "id": "3db20799",
   "metadata": {},
   "outputs": [],
   "source": []
  }
 ],
 "metadata": {
  "kernelspec": {
   "display_name": "Python 3 (ipykernel)",
   "language": "python",
   "name": "python3"
  },
  "language_info": {
   "codemirror_mode": {
    "name": "ipython",
    "version": 3
   },
   "file_extension": ".py",
   "mimetype": "text/x-python",
   "name": "python",
   "nbconvert_exporter": "python",
   "pygments_lexer": "ipython3",
   "version": "3.10.9"
  }
 },
 "nbformat": 4,
 "nbformat_minor": 5
}
