{
 "cells": [
  {
   "cell_type": "markdown",
   "id": "9417e48d",
   "metadata": {},
   "source": [
    "## Library Imports"
   ]
  },
  {
   "cell_type": "code",
   "execution_count": 1,
   "id": "fbd7163b",
   "metadata": {},
   "outputs": [],
   "source": [
    "import numpy as np\n",
    "# pip install galois\n",
    "import galois\n",
    "from numpy.random import default_rng\n",
    "import hashlib"
   ]
  },
  {
   "cell_type": "code",
   "execution_count": 2,
   "id": "07173328",
   "metadata": {},
   "outputs": [],
   "source": [
    "GF256 = galois.GF(2**8)   # Field is taken as Galois field 256 with irreducible polynomial as x^8 + x^4 + x^3 + x^2 + 1"
   ]
  },
  {
   "cell_type": "code",
   "execution_count": 3,
   "id": "813e4978",
   "metadata": {},
   "outputs": [
    {
     "data": {
      "text/plain": [
       "'Galois Field:\\n  name: GF(2^8)\\n  characteristic: 2\\n  degree: 8\\n  order: 256\\n  irreducible_poly: x^8 + x^4 + x^3 + x^2 + 1\\n  is_primitive_poly: True\\n  primitive_element: x'"
      ]
     },
     "execution_count": 3,
     "metadata": {},
     "output_type": "execute_result"
    }
   ],
   "source": [
    "GF256.properties"
   ]
  },
  {
   "cell_type": "markdown",
   "id": "77ee2e7c",
   "metadata": {},
   "source": [
    "## generate_gf256_message function generates the hash of a message of any length in GF256 field (for experiment, the length is kept between 1 and 100 bytes)"
   ]
  },
  {
   "cell_type": "code",
   "execution_count": 4,
   "id": "c6c44a7e",
   "metadata": {},
   "outputs": [],
   "source": [
    "def generate_gf256_message(o):\n",
    "    # Step 1: Generate a random message of random length in hexadecimal form\n",
    "    random_message = np.random.bytes(np.random.randint(1, 100))  # message length between 1 and 100 bytes\n",
    "\n",
    "    # Step 2: Hash the message using SHAKE256 or any suitable hash function\n",
    "    hash_output = hashlib.shake_256(random_message).digest(o)  # output size `o` bytes (number of oil variables)\n",
    "\n",
    "    # Step 3: Convert the hash output (bytes) into a NumPy array (in the space range 0-255)\n",
    "    hash_array = np.frombuffer(hash_output, dtype=np.uint8)\n",
    "\n",
    "    # Step 4: Convert hash_array to a GF(256) field element and reshape it to a column vector\n",
    "    m = GF256(hash_array).reshape(o, 1)\n",
    "\n",
    "    return random_message, m"
   ]
  },
  {
   "cell_type": "code",
   "execution_count": 5,
   "id": "afdb5cf2",
   "metadata": {},
   "outputs": [
    {
     "data": {
      "text/plain": [
       "(b'\\xec,\\xd9d\\xf6\\x99\\xccS(\\x06\\xe7\\xf6\\xe2\\x19^v\\xc8\\xb4\\x16\"\\xcd\\x1f\\xb8\\x06B\\x1e[1\\x00d_FI\\xdb^pW\\xb6\"\\xbfrV\\xfa#\\xb6\\xc9\\xeb\\xb73\\xde=',\n",
       " GF([[230],\n",
       "     [112],\n",
       "     [ 48],\n",
       "     [102],\n",
       "     [ 63]], order=2^8))"
      ]
     },
     "execution_count": 5,
     "metadata": {},
     "output_type": "execute_result"
    }
   ],
   "source": [
    "generate_gf256_message(5)"
   ]
  },
  {
   "cell_type": "code",
   "execution_count": 6,
   "id": "fd8dfde9",
   "metadata": {},
   "outputs": [],
   "source": [
    "def generate_random_polynomial(o,v):   # Generate a random polynomial(quadratic) in o+v variables that vanishes in oil space\n",
    "    f_i = np.vstack(\n",
    "    (np.hstack((np.zeros((o,o),dtype=np.uint8),np.random.randint(256, size=(o,v), dtype=np.uint8))),\n",
    "    np.random.randint(256, size=(v,v+o),dtype=np.uint8))\n",
    "    )\n",
    "    f_i_triu = np.triu(f_i)\n",
    "    return GF256(f_i_triu)"
   ]
  },
  {
   "cell_type": "code",
   "execution_count": 7,
   "id": "def034e8",
   "metadata": {},
   "outputs": [
    {
     "data": {
      "text/plain": [
       "GF([[  0,   0,   0,   0, 106, 134,  90,  18,  27,   7],\n",
       "    [  0,   0,   0,   0, 179, 118, 223,  78, 113, 109],\n",
       "    [  0,   0,   0,   0,  10,  90, 203, 144, 198,  23],\n",
       "    [  0,   0,   0,   0, 217,  62, 123, 231,  97, 238],\n",
       "    [  0,   0,   0,   0, 241, 195, 230,  76, 177, 106],\n",
       "    [  0,   0,   0,   0,   0, 230, 188, 152, 232,   2],\n",
       "    [  0,   0,   0,   0,   0,   0, 152,  62, 181,  76],\n",
       "    [  0,   0,   0,   0,   0,   0,   0, 218, 175, 152],\n",
       "    [  0,   0,   0,   0,   0,   0,   0,   0,  48,  82],\n",
       "    [  0,   0,   0,   0,   0,   0,   0,   0,   0, 126]], order=2^8)"
      ]
     },
     "execution_count": 7,
     "metadata": {},
     "output_type": "execute_result"
    }
   ],
   "source": [
    "generate_random_polynomial(4,6)  # The vinegar vinegar entries (bottom end 6*6 matrix) is upper triangular as v_i v_j variables are commutative."
   ]
  },
  {
   "cell_type": "code",
   "execution_count": 8,
   "id": "9353a4a8",
   "metadata": {},
   "outputs": [],
   "source": [
    "def generate_central_map(o,v):  #Generates the map F, which consists of o random polynomials (using generate_random_polynomial).\n",
    "    F = []\n",
    "    for _ in range(o):\n",
    "        F.append(generate_random_polynomial(o,v))\n",
    "    return F"
   ]
  },
  {
   "cell_type": "code",
   "execution_count": 9,
   "id": "ed5a5ac9",
   "metadata": {},
   "outputs": [
    {
     "data": {
      "text/plain": [
       "[GF([[  0,   0,   0,   0, 101, 181, 248, 127,  41,  51],\n",
       "     [  0,   0,   0,   0, 206, 121, 202, 197, 236,  87],\n",
       "     [  0,   0,   0,   0, 133, 208, 150,  31, 145, 148],\n",
       "     [  0,   0,   0,   0,  61,  46,  48, 141, 123, 177],\n",
       "     [  0,   0,   0,   0, 249, 106, 171, 201, 174,  12],\n",
       "     [  0,   0,   0,   0,   0,  75, 183,  72, 147, 249],\n",
       "     [  0,   0,   0,   0,   0,   0, 252,  72,  15, 253],\n",
       "     [  0,   0,   0,   0,   0,   0,   0, 110, 254, 250],\n",
       "     [  0,   0,   0,   0,   0,   0,   0,   0, 127, 198],\n",
       "     [  0,   0,   0,   0,   0,   0,   0,   0,   0, 207]], order=2^8),\n",
       " GF([[  0,   0,   0,   0, 240, 131, 225, 117, 201, 154],\n",
       "     [  0,   0,   0,   0,  62,  42, 150,  22, 131, 101],\n",
       "     [  0,   0,   0,   0,  52, 195, 107, 138, 231,  68],\n",
       "     [  0,   0,   0,   0,  49, 142, 134, 111,  62, 128],\n",
       "     [  0,   0,   0,   0, 177,  66, 106,  39, 144, 251],\n",
       "     [  0,   0,   0,   0,   0, 251, 190,  12,  15,  34],\n",
       "     [  0,   0,   0,   0,   0,   0, 238, 143, 178, 210],\n",
       "     [  0,   0,   0,   0,   0,   0,   0, 243, 231,  67],\n",
       "     [  0,   0,   0,   0,   0,   0,   0,   0, 103, 172],\n",
       "     [  0,   0,   0,   0,   0,   0,   0,   0,   0, 248]], order=2^8),\n",
       " GF([[  0,   0,   0,   0,  84, 136,   8, 137, 183,  10],\n",
       "     [  0,   0,   0,   0, 212, 244,  15,  68, 163, 204],\n",
       "     [  0,   0,   0,   0, 169, 226, 107,  33, 255, 206],\n",
       "     [  0,   0,   0,   0, 239,  48,  46,  46, 172,  61],\n",
       "     [  0,   0,   0,   0,  44, 255,  46, 155,  51, 112],\n",
       "     [  0,   0,   0,   0,   0,   4, 162, 255,  12, 131],\n",
       "     [  0,   0,   0,   0,   0,   0, 123,  13, 113, 115],\n",
       "     [  0,   0,   0,   0,   0,   0,   0, 252,   1,  48],\n",
       "     [  0,   0,   0,   0,   0,   0,   0,   0, 241,  71],\n",
       "     [  0,   0,   0,   0,   0,   0,   0,   0,   0,  40]], order=2^8),\n",
       " GF([[  0,   0,   0,   0, 134, 114, 193, 161, 170,  36],\n",
       "     [  0,   0,   0,   0, 106,  86, 152, 128, 141, 101],\n",
       "     [  0,   0,   0,   0, 165, 172, 217,  24, 124, 139],\n",
       "     [  0,   0,   0,   0, 126, 234,   6, 182,  82, 241],\n",
       "     [  0,   0,   0,   0, 223, 158,  70, 221, 112, 228],\n",
       "     [  0,   0,   0,   0,   0,  85, 153, 131,  31, 165],\n",
       "     [  0,   0,   0,   0,   0,   0,  69,  62, 107,  21],\n",
       "     [  0,   0,   0,   0,   0,   0,   0,  26, 203, 237],\n",
       "     [  0,   0,   0,   0,   0,   0,   0,   0,  71, 188],\n",
       "     [  0,   0,   0,   0,   0,   0,   0,   0,   0, 167]], order=2^8)]"
      ]
     },
     "execution_count": 9,
     "metadata": {},
     "output_type": "execute_result"
    }
   ],
   "source": [
    "F = generate_central_map(4,6)\n",
    "F"
   ]
  },
  {
   "cell_type": "markdown",
   "id": "b245ee00",
   "metadata": {},
   "source": [
    "## generate_central_map(o,v) creates 'o' number of quadratic polynomials in o+v variables that vanishes in oil space. Thus, this central map creates a o-tuple output, where each entry is a quadratic polynomial in o+v variable. "
   ]
  },
  {
   "cell_type": "code",
   "execution_count": 10,
   "id": "53a8e8c6",
   "metadata": {},
   "outputs": [],
   "source": [
    "def generate_affine_L(o,v):   #Generates an affine map in o+v variables\n",
    "    found = False\n",
    "    while not found:\n",
    "        try:\n",
    "            L_n = np.random.randint(256, size=(o+v,o+v), dtype=np.uint8)\n",
    "            L = GF256(L_n)\n",
    "            L_inv = np.linalg.inv(L)\n",
    "            found = True\n",
    "        except:\n",
    "            found = False\n",
    "    return L, L_inv    # Outputs the affine map and its inverse as well."
   ]
  },
  {
   "cell_type": "code",
   "execution_count": 11,
   "id": "9840fd6c",
   "metadata": {},
   "outputs": [
    {
     "data": {
      "text/plain": [
       "(GF([[ 23,  23, 243, 120, 245, 122, 241,  94, 245, 218],\n",
       "     [ 63,  22, 185,  27, 101, 191, 215,  49, 140, 153],\n",
       "     [186, 198, 224,  46,  53,  38,  31, 187, 183,  33],\n",
       "     [113,  44, 237, 169,  11, 160, 221,  53,  54, 176],\n",
       "     [ 54, 209, 246, 127, 138,  42, 221, 159, 250, 220],\n",
       "     [ 97, 117, 122, 239, 192, 105,  57,  57,  33,  31],\n",
       "     [206, 196, 116,  93, 210,  42, 222,   7, 138,  21],\n",
       "     [168,  89, 161,  55,  82,  50,  38, 222, 239, 125],\n",
       "     [ 65,  72, 136, 220, 121,  73, 103, 206,  23,  24],\n",
       "     [126,  31, 137,  22,  73, 173,  24, 254, 117, 222]], order=2^8),\n",
       " GF([[ 93, 253,  40,  92, 246, 102, 180, 193,  42, 204],\n",
       "     [253, 117, 204,  86,   9, 160,  49, 117,   4, 214],\n",
       "     [ 10,   4, 105, 216, 174,  82, 167, 218, 242, 148],\n",
       "     [199, 105, 235, 199,  69, 115, 244,  77,  86, 250],\n",
       "     [162, 152,  27, 154,  41, 102,  48, 131, 134, 135],\n",
       "     [198,  12,  98,  93,  87, 199, 212,  43,  59,  58],\n",
       "     [ 83, 155, 165,   7,   4,  98, 104, 105,  63, 192],\n",
       "     [ 95, 238,  47, 177, 203, 247,  32,  58, 117, 182],\n",
       "     [125,  71, 222,  20,  63, 227, 127, 184,  79, 216],\n",
       "     [250, 186, 111,  49,  17, 216, 229, 153,  20, 122]], order=2^8))"
      ]
     },
     "execution_count": 11,
     "metadata": {},
     "output_type": "execute_result"
    }
   ],
   "source": [
    "generate_affine_L(4,6)"
   ]
  },
  {
   "cell_type": "code",
   "execution_count": 12,
   "id": "f6abfb64",
   "metadata": {},
   "outputs": [],
   "source": [
    "def generate_random_vinegar(v):     # Randomly generated vinegar variable\n",
    "    vv = np.random.randint(256, size=v, dtype=np.uint8)\n",
    "    rvv = GF256(vv)\n",
    "    return rvv\n",
    "\n",
    "def generate_random_vector(v):      # Randomly generated vector\n",
    "    rv = np.random.randint(256, size=v, dtype=np.uint8)\n",
    "    rand_v = GF256(rv)\n",
    "    return rand_v\n",
    "\n",
    "def generate_random_permutation_matrix(v):\n",
    "    rng = default_rng()\n",
    "    # Generate a random permutation matrix\n",
    "    perm = np.eye(v, dtype=np.uint8)[rng.permutation(v)]\n",
    "    \n",
    "    # Replace 1s with random non-zero values from 1 to 255 (since 0 is not allowed)\n",
    "    random_values = rng.integers(1, 256, size=(v, v), dtype=np.uint8)\n",
    "    rand_Q = perm * random_values\n",
    "    \n",
    "    # Convert to GF256 (assuming GF256 is your finite field implementation)\n",
    "    rand_Q = GF256(rand_Q)\n",
    "    \n",
    "    return rand_Q"
   ]
  },
  {
   "cell_type": "code",
   "execution_count": 13,
   "id": "42e01671",
   "metadata": {},
   "outputs": [
    {
     "data": {
      "text/plain": [
       "GF([135,  75,  24, 102,  45, 133], order=2^8)"
      ]
     },
     "execution_count": 13,
     "metadata": {},
     "output_type": "execute_result"
    }
   ],
   "source": [
    "rvv = generate_random_vinegar(6)\n",
    "rvv"
   ]
  },
  {
   "cell_type": "code",
   "execution_count": 14,
   "id": "fa34a015",
   "metadata": {},
   "outputs": [
    {
     "data": {
      "text/plain": [
       "GF([158, 223,  50, 246], order=2^8)"
      ]
     },
     "execution_count": 14,
     "metadata": {},
     "output_type": "execute_result"
    }
   ],
   "source": [
    "generate_random_vector(4)"
   ]
  },
  {
   "cell_type": "code",
   "execution_count": 15,
   "id": "ed5b56ac",
   "metadata": {},
   "outputs": [
    {
     "data": {
      "text/plain": [
       "GF([[  0,   0,  39,   0],\n",
       "    [  0, 166,   0,   0],\n",
       "    [ 34,   0,   0,   0],\n",
       "    [  0,   0,   0,  47]], order=2^8)"
      ]
     },
     "execution_count": 15,
     "metadata": {},
     "output_type": "execute_result"
    }
   ],
   "source": [
    "generate_random_permutation_matrix(4)"
   ]
  },
  {
   "cell_type": "markdown",
   "id": "0cd4648b",
   "metadata": {},
   "source": [
    "# sub_vinegar_aux(rvv,f,o,v) enters the vinegar values to the polynomials and make it a linear map in oil space. "
   ]
  },
  {
   "cell_type": "code",
   "execution_count": 16,
   "id": "24ba0465",
   "metadata": {},
   "outputs": [],
   "source": [
    "def sub_vinegar_aux(rvv,f,o,v):\n",
    "    coeffs = GF256([0]* (o+1))   # Creates a zero row of (o+1) size to store the coefficients. 'o' coefficients for 'o' oil variables. 1 for constant.\n",
    "    # oil variables are in 0 <= i < o\n",
    "    # vinegar variables are in o <= i < n \n",
    "    for i in range(o+v):\n",
    "        for j in range(i,o+v):\n",
    "            # by cases\n",
    "            # oil and oil do not mix\n",
    "            if i < o and j < o:\n",
    "                pass\n",
    "            # vinegar and vinegar contribute to a constant\n",
    "            elif i >=o and j >= o:\n",
    "                ij = GF256(f[i,j])\n",
    "                vvi = GF256(rvv[i-o])\n",
    "                vvj = GF256(rvv[j-o])\n",
    "                coeffs[-1] += np.multiply(np.multiply(ij,vvi), vvj)\n",
    "            # have mixed oil and vinegar variables that contribute to o_i coeff\n",
    "            elif i < o and j >= o:\n",
    "                ij = GF256(f[i,j])\n",
    "                vvj = GF256(rvv[j-o])\n",
    "                coeffs[i] += np.multiply(ij,vvj)\n",
    "            # condition is not hit as we have covered all combos\n",
    "            else:\n",
    "                pass\n",
    "    return coeffs\n",
    "\n",
    "\n",
    "def sub_vinegar(rvv,F,o,v):   # The final map after substituing the vinegar variables\n",
    "    subbed_rvv_F = []\n",
    "    for f in F:\n",
    "        subbed_rvv_F.append(sub_vinegar_aux(rvv,f,o,v))\n",
    "    los = GF256(subbed_rvv_F)\n",
    "    return los"
   ]
  },
  {
   "cell_type": "code",
   "execution_count": 17,
   "id": "89d7eb50",
   "metadata": {},
   "outputs": [
    {
     "data": {
      "text/plain": [
       "GF([[ 31, 150,  52, 124,  38],\n",
       "    [162, 243,  82, 152, 218],\n",
       "    [156,  96, 188, 240, 121],\n",
       "    [ 74,  35,  52, 180,  29]], order=2^8)"
      ]
     },
     "execution_count": 17,
     "metadata": {},
     "output_type": "execute_result"
    }
   ],
   "source": [
    "sub_vinegar(rvv,F,4,6)"
   ]
  },
  {
   "cell_type": "code",
   "execution_count": 18,
   "id": "35fc89b2",
   "metadata": {},
   "outputs": [],
   "source": [
    "# main functions\n",
    "\n",
    "def generate_private_key(o,v): \n",
    "    F = generate_central_map(o,v)\n",
    "    L, L_inv = generate_affine_L(o,v)\n",
    "    return F, L, L_inv\n",
    "\n",
    "def generate_public_key(F,L):\n",
    "    L_T = np.transpose(L)\n",
    "    P = []\n",
    "    for f in F:\n",
    "        s1 = np.matmul(L_T,f)\n",
    "        s2 = np.matmul(s1,L)\n",
    "        P.append(s2) \n",
    "    return P"
   ]
  },
  {
   "cell_type": "code",
   "execution_count": 19,
   "id": "95be1a27",
   "metadata": {},
   "outputs": [
    {
     "data": {
      "text/plain": [
       "[GF([[ 61, 131,  73, 210, 247, 134, 187,  61,  97, 204],\n",
       "     [161,  48,  14,  55, 251, 100,   9, 115, 174, 130],\n",
       "     [ 80,  72, 223, 141,  27,   0, 136, 238,  10,  79],\n",
       "     [146, 115, 116, 217,  38, 139,  42,  34,  77, 162],\n",
       "     [181, 146,  15,  27, 184, 239,  40,  39,  64, 203],\n",
       "     [253,  20, 188,  77, 215,  59, 145, 127, 231, 185],\n",
       "     [145, 204, 222, 213,   0, 164, 253, 142,  89, 177],\n",
       "     [172, 225, 154, 118, 196,  27,  79,  50,  17, 184],\n",
       "     [162,   6,  89,  55,  58, 147, 236,  42, 173,  22],\n",
       "     [199,  73, 248,  37,  61, 172,  62, 246,  75,  85]], order=2^8),\n",
       " GF([[ 90, 141, 150, 172, 223, 192, 216, 115, 192,  97],\n",
       "     [ 65, 101, 183, 227, 195, 166, 149, 120,  92, 100],\n",
       "     [244, 157, 253, 254, 139, 150, 193, 136,  29, 231],\n",
       "     [199, 200, 242, 252, 236,  32,  96,  87, 182, 166],\n",
       "     [173, 106, 183,   3,  22, 154, 203, 200, 164,  57],\n",
       "     [ 53, 108, 127, 248, 231,  17,  88,  33, 146, 166],\n",
       "     [202, 152, 135,  13, 185,  66, 122, 114, 226, 244],\n",
       "     [  2,  49,  17,  98, 219,  37,  54,  21,  53,  21],\n",
       "     [ 32, 234,  63,  69,  82,  67,  30,  83, 131, 226],\n",
       "     [173, 177, 231, 118,  93, 249, 200, 127, 128, 196]], order=2^8),\n",
       " GF([[162, 145, 179, 148, 192, 210, 167,  21, 103, 166],\n",
       "     [ 92, 107,  79,  66, 137,  34, 168,  71, 134,  34],\n",
       "     [122, 161, 237, 247, 225, 215, 206,  42, 120,  94],\n",
       "     [ 19,  27, 211, 124,  46, 186, 178, 185,  77, 159],\n",
       "     [137, 248, 168,   0, 247,  74, 153,  70,  87,  34],\n",
       "     [160, 230, 226,  84, 215,  34, 199,  89,  27, 142],\n",
       "     [199, 130,  45,  25, 139, 111, 147, 212, 255, 172],\n",
       "     [103, 101, 105, 107,  40,  41,  53, 222, 238,  85],\n",
       "     [169, 147,  89, 133, 202,  13,  21, 198, 177,  60],\n",
       "     [ 98, 113,  77, 144, 239,  94, 103, 236, 208, 120]], order=2^8),\n",
       " GF([[183, 191, 221, 211, 143,  40,  64,  32,  12,   0],\n",
       "     [180, 127,  65, 219, 167, 217, 164, 240, 111, 148],\n",
       "     [112, 212, 109, 139, 237,  48,  58, 211,  82, 253],\n",
       "     [187, 133, 219,  26,  94, 169, 230, 253, 101,   5],\n",
       "     [243, 142, 121, 231, 221, 191, 127, 104, 226,  86],\n",
       "     [ 26, 253, 212,   0, 104,  99, 102,  79, 123,  49],\n",
       "     [216,   0, 175, 244,  97,  90,  83, 221, 141,  96],\n",
       "     [ 23,  15, 117,  85, 178, 197,  54,  94, 192, 237],\n",
       "     [ 43, 177, 202,   1,  29, 125, 193,  48, 103, 255],\n",
       "     [ 33, 250, 189,  51,  79, 154,  91, 171,  91,  58]], order=2^8)]"
      ]
     },
     "execution_count": 19,
     "metadata": {},
     "output_type": "execute_result"
    }
   ],
   "source": [
    "F, L, L_inv = generate_private_key(4,6)\n",
    "generate_public_key(F,L)"
   ]
  },
  {
   "cell_type": "markdown",
   "id": "ad85a352",
   "metadata": {},
   "source": [
    "## We compute our public verification key by computing L ∘ f for each f in F. This is made easy as we can do this in quadratic form, thus each f_p in P is computed as L_T · f · L for each f in F where L_T is the transpose of L."
   ]
  },
  {
   "cell_type": "code",
   "execution_count": 20,
   "id": "3fdda92d",
   "metadata": {},
   "outputs": [],
   "source": [
    "def sign_outsource(M,y,o):   # Creates the requirements for outsourcing scenarios\n",
    "    rand_v = generate_random_vector(o).reshape(o,1)\n",
    "    rand_Q = generate_random_permutation_matrix(o)\n",
    "    Enc_M = np.matmul(rand_Q,M)\n",
    "    Enc_y = np.matmul(rand_Q,np.add(y,np.matmul(M,rand_v)))\n",
    "    return rand_v, Enc_M , Enc_y"
   ]
  },
  {
   "cell_type": "code",
   "execution_count": null,
   "id": "6e6df05a",
   "metadata": {},
   "outputs": [],
   "source": []
  },
  {
   "cell_type": "code",
   "execution_count": 21,
   "id": "ea3e2774",
   "metadata": {},
   "outputs": [],
   "source": [
    "def retrace_sign(rvv,Enc_sol,rand_v):  # Generates the signature.\n",
    "    sol = np.subtract(Enc_sol,rand_v)\n",
    "    x = np.vstack((sol, rvv.reshape(v,1)))\n",
    "    s = np.matmul(L_inv, x)\n",
    "    return s"
   ]
  },
  {
   "cell_type": "code",
   "execution_count": 22,
   "id": "7643c444",
   "metadata": {},
   "outputs": [],
   "source": [
    "def sign(M,y,rvv,L_inv):   #Generates sign without outsourcing\n",
    "    signed = False\n",
    "    while not signed:\n",
    "        try:\n",
    "#             rvv = generate_random_vinegar(v)\n",
    "#             los = sub_vinegar(rvv,F,o,v)\n",
    "#             M = GF256(los[:, :-1])                         This is omitted here...but M is taken as the first 'o' columns of coefficients values of sub_vinegar functions \n",
    "#             c = GF256(los[:, [-1]])                        Similarly, c is the constant generated by vinegar-vinegar substitution. In the NIST documentation as well, yi = vTP(1)v was the constant values. \n",
    "#             y = np.subtract(m,c).reshape(o, 1)             \n",
    "            sol = np.linalg.solve(M,y)\n",
    "            x = np.vstack((sol, rvv.reshape(v,1)))     \n",
    "            s = np.matmul(L_inv, x)\n",
    "            signed = True\n",
    "        except:\n",
    "            signed = False\n",
    "    return s\n",
    "\n",
    "def verify(P,s,m):\n",
    "    cmparts= []\n",
    "    s_T = np.transpose(s)\n",
    "    for f_p in P:\n",
    "        cmp1 = np.matmul(s_T,f_p)\n",
    "        cmp2 = np.matmul(cmp1,s)\n",
    "        cmparts.append(cmp2[0])\n",
    "    computed_m = GF256(cmparts)\n",
    "    return computed_m, np.array_equal(computed_m,m)"
   ]
  },
  {
   "cell_type": "code",
   "execution_count": 28,
   "id": "f434d89e",
   "metadata": {},
   "outputs": [
    {
     "name": "stdout",
     "output_type": "stream",
     "text": [
      "Without Outsourcing\n",
      "sign time 0.007036924362182617\n",
      "Original message (m): b'\\xabbw~\\xe3&\"L5\\xa6\\x8f\\x04W\\x0e\\x97\\x11~x\\x98\\xb8'\n",
      "Hash value [[126]\n",
      " [255]\n",
      " [173]\n",
      " [254]\n",
      " [  5]\n",
      " [ 93]\n",
      " [213]\n",
      " [218]\n",
      " [141]\n",
      " [154]\n",
      " [122]\n",
      " [129]\n",
      " [169]\n",
      " [ 31]\n",
      " [109]\n",
      " [123]\n",
      " [145]\n",
      " [ 10]\n",
      " [181]\n",
      " [ 19]]\n",
      "Generated signature (s): [[ 31]\n",
      " [161]\n",
      " [191]\n",
      " [ 73]\n",
      " [189]\n",
      " [213]\n",
      " [133]\n",
      " [249]\n",
      " [ 76]\n",
      " [  2]\n",
      " [243]\n",
      " [139]\n",
      " [107]\n",
      " [ 28]\n",
      " [160]\n",
      " [ 50]\n",
      " [110]\n",
      " [ 75]\n",
      " [255]\n",
      " [192]\n",
      " [ 75]\n",
      " [172]\n",
      " [250]\n",
      " [  9]\n",
      " [230]\n",
      " [239]\n",
      " [167]\n",
      " [ 85]\n",
      " [123]\n",
      " [176]\n",
      " [141]\n",
      " [ 63]\n",
      " [242]\n",
      " [188]\n",
      " [ 77]\n",
      " [ 53]\n",
      " [175]\n",
      " [ 39]\n",
      " [222]\n",
      " [136]\n",
      " [248]\n",
      " [ 14]\n",
      " [186]\n",
      " [149]\n",
      " [ 44]]\n",
      "Computed hash from signature: [[126]\n",
      " [255]\n",
      " [173]\n",
      " [254]\n",
      " [  5]\n",
      " [ 93]\n",
      " [213]\n",
      " [218]\n",
      " [141]\n",
      " [154]\n",
      " [122]\n",
      " [129]\n",
      " [169]\n",
      " [ 31]\n",
      " [109]\n",
      " [123]\n",
      " [145]\n",
      " [ 10]\n",
      " [181]\n",
      " [ 19]]\n",
      "Signature is valid: True\n"
     ]
    }
   ],
   "source": [
    "import time\n",
    "print('Without Outsourcing')\n",
    "o = 20\n",
    "v = 25\n",
    "\n",
    "# Consider hash as m in GF(2^8) of size `o`\n",
    "message, m = generate_gf256_message(o)\n",
    "\n",
    "\n",
    "# Generate key pair\n",
    "F, L, L_inv = generate_private_key(o, v)\n",
    "P = generate_public_key(F, L)\n",
    "\n",
    "# Sign the message (without outsourcing)\n",
    "\n",
    "rvv = generate_random_vinegar(v)\n",
    "los = sub_vinegar(rvv,F,o,v)\n",
    "M = GF256(los[:, :-1])\n",
    "c = GF256(los[:, [-1]])\n",
    "y = np.subtract(m,c)\n",
    "\n",
    "\n",
    "\n",
    "start_time = time.time()\n",
    "signature = sign(M,y,rvv,L_inv)\n",
    "sig_time = time.time() - start_time\n",
    "print('sign time',sig_time)\n",
    "# Verify the signature\n",
    "computed_m, is_valid = verify(P, signature, m)\n",
    "\n",
    "# Output the results\n",
    "print(\"Original message (m):\", message)\n",
    "print(\"Hash value\", m)\n",
    "print(\"Generated signature (s):\", signature)\n",
    "print(\"Computed hash from signature:\", computed_m)\n",
    "print(\"Signature is valid:\", is_valid)\n",
    "\n",
    "#####################################################################################"
   ]
  },
  {
   "cell_type": "code",
   "execution_count": 29,
   "id": "b4288121",
   "metadata": {},
   "outputs": [
    {
     "name": "stdout",
     "output_type": "stream",
     "text": [
      "With outsourcing\n",
      "Encryption 0.0020194053649902344\n"
     ]
    }
   ],
   "source": [
    "# Sign the message (with outsourcing) for the same message m.\n",
    "print('With outsourcing')\n",
    "\n",
    "start_time = time.time()\n",
    "random_v, Enc_M , Enc_y = sign_outsource(M,y,o)\n",
    "keygen_time = time.time() - start_time\n",
    "print('Encryption',keygen_time)\n",
    "\n",
    "# Send the vectors to the server\n",
    "np.savetxt('Enc_M.txt', Enc_M, delimiter=',')\n",
    "np.savetxt('Enc_y.txt', Enc_y, delimiter=',')"
   ]
  },
  {
   "cell_type": "code",
   "execution_count": 30,
   "id": "832cf7ad",
   "metadata": {},
   "outputs": [],
   "source": [
    "#Result obtained from the server\n",
    "\n",
    "Enc_sol = np.loadtxt(\"Enc_sol.txt\", delimiter=\",\")\n",
    "Enc_sol = Enc_sol.reshape(Enc_sol.shape[0], 1)\n",
    "Enc_sol = Enc_sol.astype(dtype=np.uint8)\n",
    "Enc_sol = GF256(Enc_sol)"
   ]
  },
  {
   "cell_type": "code",
   "execution_count": 31,
   "id": "87772fb1",
   "metadata": {},
   "outputs": [
    {
     "name": "stdout",
     "output_type": "stream",
     "text": [
      "signing time 0.003028392791748047\n",
      "Original message (m): b'\\xabbw~\\xe3&\"L5\\xa6\\x8f\\x04W\\x0e\\x97\\x11~x\\x98\\xb8'\n",
      "Hash value [[126]\n",
      " [255]\n",
      " [173]\n",
      " [254]\n",
      " [  5]\n",
      " [ 93]\n",
      " [213]\n",
      " [218]\n",
      " [141]\n",
      " [154]\n",
      " [122]\n",
      " [129]\n",
      " [169]\n",
      " [ 31]\n",
      " [109]\n",
      " [123]\n",
      " [145]\n",
      " [ 10]\n",
      " [181]\n",
      " [ 19]]\n",
      "Outsourced signature (s): [[ 31]\n",
      " [161]\n",
      " [191]\n",
      " [ 73]\n",
      " [189]\n",
      " [213]\n",
      " [133]\n",
      " [249]\n",
      " [ 76]\n",
      " [  2]\n",
      " [243]\n",
      " [139]\n",
      " [107]\n",
      " [ 28]\n",
      " [160]\n",
      " [ 50]\n",
      " [110]\n",
      " [ 75]\n",
      " [255]\n",
      " [192]\n",
      " [ 75]\n",
      " [172]\n",
      " [250]\n",
      " [  9]\n",
      " [230]\n",
      " [239]\n",
      " [167]\n",
      " [ 85]\n",
      " [123]\n",
      " [176]\n",
      " [141]\n",
      " [ 63]\n",
      " [242]\n",
      " [188]\n",
      " [ 77]\n",
      " [ 53]\n",
      " [175]\n",
      " [ 39]\n",
      " [222]\n",
      " [136]\n",
      " [248]\n",
      " [ 14]\n",
      " [186]\n",
      " [149]\n",
      " [ 44]]\n",
      "Computed hash from signature: [[126]\n",
      " [255]\n",
      " [173]\n",
      " [254]\n",
      " [  5]\n",
      " [ 93]\n",
      " [213]\n",
      " [218]\n",
      " [141]\n",
      " [154]\n",
      " [122]\n",
      " [129]\n",
      " [169]\n",
      " [ 31]\n",
      " [109]\n",
      " [123]\n",
      " [145]\n",
      " [ 10]\n",
      " [181]\n",
      " [ 19]]\n",
      "Signature is valid: True\n"
     ]
    }
   ],
   "source": [
    "start_time = time.time()\n",
    "signature1 = retrace_sign(rvv, Enc_sol,random_v)\n",
    "sig_time = time.time() - start_time\n",
    "print('signing time',sig_time)\n",
    "# Verify the signature\n",
    "computed_m1, is_valid = verify(P, signature1, m)\n",
    "\n",
    "# Output the results\n",
    "print(\"Original message (m):\", message)\n",
    "print(\"Hash value\", m)\n",
    "print(\"Outsourced signature (s):\", signature1)\n",
    "print(\"Computed hash from signature:\", computed_m1)\n",
    "print(\"Signature is valid:\", is_valid)"
   ]
  },
  {
   "cell_type": "code",
   "execution_count": 32,
   "id": "34e10ab2",
   "metadata": {},
   "outputs": [
    {
     "data": {
      "text/plain": [
       "True"
      ]
     },
     "execution_count": 32,
     "metadata": {},
     "output_type": "execute_result"
    }
   ],
   "source": [
    "np.array_equal(signature,signature1)         #Signature is the true signature, Signature1 is the outsourced signature"
   ]
  },
  {
   "cell_type": "code",
   "execution_count": null,
   "id": "567a8dde",
   "metadata": {},
   "outputs": [],
   "source": [
    "Enc_y"
   ]
  },
  {
   "cell_type": "code",
   "execution_count": null,
   "id": "0e2b4a66",
   "metadata": {},
   "outputs": [],
   "source": []
  },
  {
   "cell_type": "code",
   "execution_count": null,
   "id": "ce9906f2",
   "metadata": {},
   "outputs": [],
   "source": []
  },
  {
   "cell_type": "code",
   "execution_count": null,
   "id": "6080fe95",
   "metadata": {},
   "outputs": [],
   "source": []
  }
 ],
 "metadata": {
  "kernelspec": {
   "display_name": "Python 3 (ipykernel)",
   "language": "python",
   "name": "python3"
  },
  "language_info": {
   "codemirror_mode": {
    "name": "ipython",
    "version": 3
   },
   "file_extension": ".py",
   "mimetype": "text/x-python",
   "name": "python",
   "nbconvert_exporter": "python",
   "pygments_lexer": "ipython3",
   "version": "3.10.9"
  }
 },
 "nbformat": 4,
 "nbformat_minor": 5
}
